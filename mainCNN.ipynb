{
 "cells": [
  {
   "cell_type": "code",
   "execution_count": null,
   "metadata": {},
   "outputs": [],
   "source": [
    "\"\"\"Simple convolutional neural network classififer.\"\"\"\n",
    "\n",
    "from __future__ import absolute_import\n",
    "from __future__ import division\n",
    "from __future__ import print_function\n",
    "\n",
    "import tensorflow as tf\n",
    "\n",
    "FLAGS = tf.flags.FLAGS\n",
    "\n",
    "def get_params():\n",
    "    \"\"\"Model params.\"\"\"\n",
    "    return {\n",
    "        \"drop_rate\": 0.5\n",
    "    }\n",
    "\n",
    "def model(features, labels, mode, params):\n",
    "    \"\"\"CNN classifier model.\"\"\"\n",
    "    images = features[\"image\"]\n",
    "    labels = labels[\"label\"]\n",
    "\n",
    "    tf.summary.image(\"images\", images)\n",
    "\n",
    "    drop_rate = params.drop_rate if mode == tf.estimator.ModeKeys.TRAIN else 0.0\n",
    "\n",
    "    features = images\n",
    "    for i, filters in enumerate([32, 64, 128]):\n",
    "        features = tf.layers.conv2d(\n",
    "            features, filters=filters, kernel_size=3, padding=\"same\",\n",
    "            name=\"conv_%d\" % (i + 1))\n",
    "        features = tf.layers.max_pooling2d(\n",
    "            inputs=features, pool_size=2, strides=2, padding=\"same\",\n",
    "            name=\"pool_%d\" % (i + 1))\n",
    "\n",
    "    features = tf.contrib.layers.flatten(features)\n",
    "\n",
    "    features = tf.layers.dropout(features, drop_rate)\n",
    "    features = tf.layers.dense(features, 512, name=\"dense_1\")\n",
    "\n",
    "    features = tf.layers.dropout(features, drop_rate)\n",
    "    logits = tf.layers.dense(features, params.num_classes, activation=None,\n",
    "                             name=\"dense_2\")\n",
    "\n",
    "    predictions = tf.argmax(logits, axis=1)\n",
    "\n",
    "    loss = tf.losses.sparse_softmax_cross_entropy(\n",
    "        labels=labels, logits=logits)\n",
    "\n",
    "    return {\"predictions\": predictions}, loss\n",
    "\n",
    "def eval_metrics(unused_params):\n",
    "    \"\"\"Eval metrics.\"\"\"\n",
    "    return {\n",
    "        \"accuracy\": tf.contrib.learn.MetricSpec(tf.metrics.accuracy)\n",
    "    }\n"
   ]
  }
 ],
 "metadata": {
  "kernelspec": {
   "display_name": "Python 3",
   "language": "python",
   "name": "python3"
  },
  "language_info": {
   "name": "python",
   "version": "3.11.1 (v3.11.1:a7a450f84a, Dec  6 2022, 15:24:06) [Clang 13.0.0 (clang-1300.0.29.30)]"
  },
  "orig_nbformat": 4,
  "vscode": {
   "interpreter": {
    "hash": "aee8b7b246df8f9039afb4144a1f6fd8d2ca17a180786b69acc140d282b71a49"
   }
  }
 },
 "nbformat": 4,
 "nbformat_minor": 2
}
