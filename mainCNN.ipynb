{
  "cells": [
    {
      "cell_type": "markdown",
      "metadata": {
        "id": "20QXN7c3b6ST"
      },
      "source": [
        "Data cleanup in another file"
      ]
    },
    {
      "cell_type": "code",
      "execution_count": null,
      "metadata": {
        "id": "j9dv5PYU7FY6"
      },
      "outputs": [],
      "source": [
        "from google.colab import drive\n",
        "drive.mount('/content/drive')"
      ]
    },
    {
      "cell_type": "code",
      "execution_count": null,
      "metadata": {
        "id": "P1Qy9K0FbyN6"
      },
      "outputs": [],
      "source": [
        "import pandas as pd\n",
        "from sklearn.model_selection import train_test_split\n",
        "import numpy as np\n",
        "import requests_oauthlib\n",
        "\n",
        "FileName = '/content/drive/MyDrive/SpartaHack8/Training Images'\n",
        "df = pd.read_csv('final_training.csv')\n",
        "\n",
        "X = pd.get_dummies(df.drop(['image', 'image_ID' , 'num_potholes' , 'x_min' , 'y_min' , 'width' , 'height'], axis = 1))\n",
        "y = df['image'].apply(lambda x : 1 if X == 'Yes' else 0)\n",
        "\n",
        "X_train, X_test, y_train, y_test = train_test_split(X, y, test_size=.2)\n",
        "\n",
        "X_train.head()\n",
        "y_train.head()\n"
      ]
    },
    {
      "cell_type": "markdown",
      "metadata": {
        "id": "r958IpbuVGsJ"
      },
      "source": [
        "SpartaHack8 Project for social good: Convolutional Neural Network to identify potholes using image recognition."
      ]
    },
    {
      "cell_type": "code",
      "execution_count": null,
      "metadata": {
        "id": "eBQMIP5DWqOv"
      },
      "outputs": [],
      "source": [
        "!pip install streamlit"
      ]
    },
    {
      "cell_type": "code",
      "execution_count": null,
      "metadata": {
        "colab": {
          "base_uri": "https://localhost:8080/",
          "height": 294
        },
        "id": "azs-EXNzTYOj",
        "outputId": "bae19756-8963-45e7-e1e0-f1b1e227fde9"
      },
      "outputs": [
        {
          "ename": "NameError",
          "evalue": "ignored",
          "output_type": "error",
          "traceback": [
            "\u001b[0;31m---------------------------------------------------------------------------\u001b[0m",
            "\u001b[0;31mNameError\u001b[0m                                 Traceback (most recent call last)",
            "\u001b[0;32m<ipython-input-5-cf5a7f3f4db1>\u001b[0m in \u001b[0;36m<module>\u001b[0;34m\u001b[0m\n\u001b[1;32m      7\u001b[0m \u001b[0;34m\u001b[0m\u001b[0m\n\u001b[1;32m      8\u001b[0m \u001b[0mmodel\u001b[0m \u001b[0;34m=\u001b[0m \u001b[0mSequential\u001b[0m\u001b[0;34m(\u001b[0m\u001b[0;34m)\u001b[0m\u001b[0;34m\u001b[0m\u001b[0;34m\u001b[0m\u001b[0m\n\u001b[0;32m----> 9\u001b[0;31m \u001b[0mmodel\u001b[0m\u001b[0;34m.\u001b[0m\u001b[0madd\u001b[0m\u001b[0;34m(\u001b[0m\u001b[0mDense\u001b[0m\u001b[0;34m(\u001b[0m\u001b[0munits\u001b[0m\u001b[0;34m=\u001b[0m\u001b[0;36m32\u001b[0m\u001b[0;34m,\u001b[0m \u001b[0mactivation\u001b[0m\u001b[0;34m=\u001b[0m\u001b[0;34m'relu'\u001b[0m\u001b[0;34m,\u001b[0m \u001b[0minput_dim\u001b[0m\u001b[0;34m=\u001b[0m\u001b[0mlen\u001b[0m\u001b[0;34m(\u001b[0m\u001b[0mX_train\u001b[0m\u001b[0;34m.\u001b[0m\u001b[0mcolumns\u001b[0m\u001b[0;34m)\u001b[0m\u001b[0;34m)\u001b[0m\u001b[0;34m)\u001b[0m\u001b[0;34m\u001b[0m\u001b[0;34m\u001b[0m\u001b[0m\n\u001b[0m\u001b[1;32m     10\u001b[0m \u001b[0mmodel\u001b[0m\u001b[0;34m.\u001b[0m\u001b[0madd\u001b[0m\u001b[0;34m(\u001b[0m\u001b[0mDense\u001b[0m\u001b[0;34m(\u001b[0m\u001b[0munits\u001b[0m\u001b[0;34m=\u001b[0m\u001b[0;36m64\u001b[0m\u001b[0;34m,\u001b[0m \u001b[0mactivation\u001b[0m\u001b[0;34m=\u001b[0m\u001b[0;34m'relu'\u001b[0m\u001b[0;34m)\u001b[0m\u001b[0;34m)\u001b[0m\u001b[0;34m\u001b[0m\u001b[0;34m\u001b[0m\u001b[0m\n\u001b[1;32m     11\u001b[0m \u001b[0mmodel\u001b[0m\u001b[0;34m.\u001b[0m\u001b[0madd\u001b[0m\u001b[0;34m(\u001b[0m\u001b[0mDense\u001b[0m\u001b[0;34m(\u001b[0m\u001b[0munits\u001b[0m\u001b[0;34m=\u001b[0m\u001b[0;36m1\u001b[0m\u001b[0;34m,\u001b[0m \u001b[0mactivation\u001b[0m\u001b[0;34m=\u001b[0m\u001b[0;34m'sigmoid'\u001b[0m\u001b[0;34m)\u001b[0m\u001b[0;34m)\u001b[0m\u001b[0;34m\u001b[0m\u001b[0;34m\u001b[0m\u001b[0m\n",
            "\u001b[0;31mNameError\u001b[0m: name 'X_train' is not defined"
          ]
        }
      ],
      "source": [
        "import tensorflow\n",
        "import keras\n",
        "\n",
        "from tensorflow.keras.models import Sequential, load_model\n",
        "from tensorflow.keras.layers import Dense\n",
        "from sklearn.metrics import accuracy_score\n",
        "\n",
        "model = Sequential()\n",
        "model.add(Dense(units=32, activation='relu', input_dim=len(X_train.columns)))\n",
        "model.add(Dense(units=64, activation='relu'))\n",
        "model.add(Dense(units=1, activation='sigmoid'))\n",
        "\n",
        "model.compile(loss='binary_crossentropy', optimizer='sgd', metrics='accuracy')\n",
        "\n",
        "model.fit(X_train, y_train, epochs=200, batch_size=32)\n",
        "\n",
        "y_hat = model.predict(X_test)\n",
        "y_hat = [0 if val < 0.5 else 1 for val in y_hat]\n",
        "\n",
        "accuracy_score(y_test, y_hat)\n",
        "\n",
        "model.save('tfmodel')\n",
        "\n",
        "del model \n",
        "model = load_model('tfmodel')"
      ]
    },
    {
      "cell_type": "code",
      "execution_count": null,
      "metadata": {
        "id": "SLseiViOR2G1"
      },
      "outputs": [],
      "source": [
        "import tensorflow as tf\n",
        "model = tf.keras.models.load_model('tfmodel')\n",
        "import streamlit as st\n",
        "import pandas as pd\n",
        "import numpy as np\n",
        "import cv2\n",
        "import turtle\n",
        "\n",
        "#getting the image file from the user\n",
        "st.write(\"\"\"\n",
        "         # Pothole(s) in Road Prediction\n",
        "         \"\"\"\n",
        "         )\n",
        "st.write(\"This is a simple image classification web app to predict the location of potholes in an image of a road\")\n",
        "file = st.file_uploader(\"Please upload an image file\", type=[\"jpg\", \"png\"])\n",
        "\n",
        "\n",
        "#processing the image submitted by the user\n",
        "from PIL import Image, ImageOps\n",
        "def import_and_predict(image_data, model):\n",
        "    \n",
        "        size = (150,150)    \n",
        "        image = ImageOps.fit(image_data, size, Image.ANTIALIAS)\n",
        "        image = np.asarray(image)\n",
        "        img = cv2.cvtColor(image, cv2.COLOR_BGR2RGB)\n",
        "        img_resize = (cv2.resize(img, dsize=(75, 75),    interpolation=cv2.INTER_CUBIC))/255.\n",
        "        \n",
        "        img_reshape = img_resize[np.newaxis,...]\n",
        "    \n",
        "        prediction = model.predict(img_reshape)\n",
        "        \n",
        "        return prediction\n",
        "if file is None:\n",
        "    st.text(\"Please upload an image file\")\n",
        "else:\n",
        "    image = Image.open(file)\n",
        "    st.image(image, use_column_width=True)\n",
        "    prediction = import_and_predict(image, model)\n",
        "\n",
        "    numPotholes = model.numPotholes\n",
        "    x_pos = model.x_min\n",
        "    y_pos = model.y_min\n",
        "    width = model.width\n",
        "    height = model.height\n",
        "\n",
        "    t = turtle.Turtle()\n",
        "    t.left(270)\n",
        "    t.pencolor(\"red\")\n",
        "\n",
        "    if np.argmax(prediction) == 0:\n",
        "        st.write(\"There are _ potholes\")\n",
        "        i = 0\n",
        "        while i < numPotholes:\n",
        "            t.goto(x_pos, y_pos)\n",
        "            t.forward(height)\n",
        "            t.left(90)\n",
        "            t.forward(width)\n",
        "            t.left(90)\n",
        "            t.forward(height)\n",
        "            t.left(90)\n",
        "            t.forward(width)\n",
        "            t.left(90)\n",
        "\n",
        "            x_pos = model.x_min\n",
        "            y_pos = model.y_min\n",
        "            width = model.width\n",
        "            height = model.height\n",
        "\n",
        "            i+=1\n",
        "\n",
        "    elif np.argmax(prediction) == 1:\n",
        "        st.write(\"There are no potholes\")\n",
        "\n",
        "    \n",
        "    st.text(\"Accuracy of Guess: \")\n",
        "    st.write(prediction)\n",
        "\n",
        "\n",
        "#streamlit run potholes.py"
      ]
    }
  ],
  "metadata": {
    "colab": {
      "provenance": []
    },
    "kernelspec": {
      "display_name": "Python 3",
      "name": "python3"
    },
    "language_info": {
      "name": "python"
    }
  },
  "nbformat": 4,
  "nbformat_minor": 0
}
