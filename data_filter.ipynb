{
  "cells": [
    {
      "cell_type": "code",
      "execution_count": null,
      "metadata": {
        "colab": {
          "base_uri": "https://localhost:8080/"
        },
        "id": "Vp06qlNEmgFF",
        "outputId": "94101946-2f62-4d5d-8bf5-be9ace7d7785"
      },
      "outputs": [],
      "source": [
        "from google.colab import drive\n",
        "drive.mount('/content/drive')"
      ]
    },
    {
      "cell_type": "code",
      "execution_count": null,
      "metadata": {
        "id": "re7ZFsMTpvej"
      },
      "outputs": [],
      "source": [
        "FileLoc = '/content/drive/MyDrive/SpartaHack8/Training Images/complexTrainFullSizeAllPotholes.txt'\n",
        "\n",
        "New_File_Loc = \"/content/gdrive/My Drive/New_Training_Data.txt\"\n",
        "nutext = \"\"\n",
        "with open(FileLoc, 'r') as lines:\n",
        "    for line in lines:\n",
        "      nuline = line[25:]\n",
        "      nutext += nuline\n",
        "\n",
        "with open(\"New_Training_Data.txt\",\"w\") as out:\n",
        "  out.write(nutext)"
      ]
    },
    {
      "cell_type": "code",
      "execution_count": null,
      "metadata": {
        "id": "IZoQIIiz-YTP"
      },
      "outputs": [],
      "source": [
        "import os\n",
        "from os import listdir\n",
        "from os.path import isfile, join\n",
        "import cv2\n",
        "import csv\n",
        "\n",
        "images = []\n",
        "\n",
        "folder_dir = \"/content/drive/MyDrive/SpartaHack8/Training Images/Positive data\"\n",
        "for image in os.listdir(folder_dir):\n",
        "  if image.endswith(\".JPG\"):\n",
        "    img = cv2.imread('/content/drive/MyDrive/SpartaHack8/Training Images/Positive data/' + image)\n",
        "    images.append(img)\n",
        "\n",
        "\n",
        "with open(\"/content/drive/MyDrive/SpartaHack8/training_img.csv\",\"w+\") as out:\n",
        "  csvWriter = csv.writer(out)\n",
        "  csvWriter.writerows(images)\n",
        "\n",
        "del images\n"
      ]
    },
    {
      "cell_type": "code",
      "execution_count": null,
      "metadata": {
        "colab": {
          "base_uri": "https://localhost:8080/",
          "height": 389
        },
        "id": "BBmuyg4dZNwU",
        "outputId": "5c035e3e-f0d5-489c-b647-9a3f872ec3fc"
      },
      "outputs": [],
      "source": [
        "import numpy as np\n",
        "import pandas as pd\n",
        "\n",
        "ImgLoc = \"/content/drive/MyDrive/SpartaHack8/training_img.csv\"\n",
        "FileLoc = \"New_Training_Data.txt\"\n",
        "\n",
        "\n",
        "dfimg = pd.read_csv(ImgLoc , header=None , names = range(1))\n",
        "dftext = pd.read_csv(FileLoc,  delim_whitespace=True, header=None, names=range(58))\n",
        "#display(dfimg)\n",
        "#display(dftext)\n",
        "frames = [dfimg,dftext]\n",
        "\n",
        "df = pd.merge(dfimg,dftext, on = [\"imagedata\" , \"image_title\"])\n",
        "\n",
        "final_data = df.to_csv('final_training.csv', index = True)\n",
        " "
      ]
    }
  ],
  "metadata": {
    "colab": {
      "provenance": []
    },
    "kernelspec": {
      "display_name": "Python 3",
      "language": "python",
      "name": "python3"
    },
    "language_info": {
      "name": "python",
      "version": "3.8.9 (default, Apr 13 2022, 08:48:06) \n[Clang 13.1.6 (clang-1316.0.21.2.5)]"
    },
    "vscode": {
      "interpreter": {
        "hash": "31f2aee4e71d21fbe5cf8b01ff0e069b9275f58929596ceb00d14d90e3e16cd6"
      }
    }
  },
  "nbformat": 4,
  "nbformat_minor": 0
}
